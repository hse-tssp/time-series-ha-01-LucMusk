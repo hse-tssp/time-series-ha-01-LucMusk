{
  "nbformat": 4,
  "nbformat_minor": 0,
  "metadata": {
    "kernelspec": {
      "display_name": "Python 3",
      "language": "python",
      "name": "python3"
    },
    "language_info": {
      "codemirror_mode": {
        "name": "ipython",
        "version": 3
      },
      "file_extension": ".py",
      "mimetype": "text/x-python",
      "name": "python",
      "nbconvert_exporter": "python",
      "pygments_lexer": "ipython3",
      "version": "3.8.5"
    },
    "colab": {
      "name": "HA1_BITSA_Luc_Wilson-Smith.ipynb",
      "provenance": []
    }
  },
  "cells": [
    {
      "cell_type": "markdown",
      "metadata": {
        "id": "LJ-fhBY35hdJ"
      },
      "source": [
        "## Time Series Analysis: Home Assignment 1"
      ]
    },
    {
      "cell_type": "markdown",
      "metadata": {
        "id": "NnWn-RgE5hda"
      },
      "source": [
        "due to **11.02.21 23:00**\n",
        "\n",
        "You need to upload HA1 to github repository,  the link will be provided later."
      ]
    },
    {
      "cell_type": "markdown",
      "metadata": {
        "id": "fALXSqCT5hdb"
      },
      "source": [
        "Enter your name below: "
      ]
    },
    {
      "cell_type": "code",
      "metadata": {
        "id": "0CiOoUsJ5hdc"
      },
      "source": [
        "name='Luc Wilson-Smith' "
      ],
      "execution_count": null,
      "outputs": []
    },
    {
      "cell_type": "markdown",
      "metadata": {
        "id": "LUmDpkS-5hdc"
      },
      "source": [
        "### Contents"
      ]
    },
    {
      "cell_type": "markdown",
      "metadata": {
        "id": "cTOzqXli5hdd"
      },
      "source": [
        "1. **Data preparation (7 points)**\n",
        "\n",
        "    $1.0$ Download data and import functions\n",
        "    \n",
        "    $1.1$ Read data (1 pt.)\n",
        "    \n",
        "    $1.2$ Check NAs (1 pt.)\n",
        "    \n",
        "    $1.3$ Transform dates (2 pt.)\n",
        "    \n",
        "    $1.4$. Make some plots (0.75 pt.)\n",
        "    \n",
        "    $1.5$ Split the data (0.75 pt.)\n",
        "    \n",
        " \n",
        "2. **ETS (7 points)**\n",
        "\n",
        "    $2.1$ Estimate ETS (1 pt.)\n",
        "    \n",
        "    $2.2$ Point forecasts (1 pt.)\n",
        "    \n",
        "    $2.3$ Interval forecasts 1 (1 pt.)\n",
        "    \n",
        "    $2.4$ Interval forecasts 2 (1 pt.)\n",
        "    \n",
        "    $2.5$ Forecast quality metrics (2 pt.)\n",
        "    \n",
        "    $2.6$ Model comparison (1 pt.)\n",
        "    "
      ]
    },
    {
      "cell_type": "markdown",
      "metadata": {
        "id": "OhH1SCji5hdd"
      },
      "source": [
        "## 1. Data preparation (7 pt.)"
      ]
    },
    {
      "cell_type": "markdown",
      "metadata": {
        "id": "jWRuVyqk5hde"
      },
      "source": [
        "### 1.0 Download data and import functions\n",
        "[back to contents](#Contents)"
      ]
    },
    {
      "cell_type": "markdown",
      "metadata": {
        "id": "xeZGBrrF5hdf"
      },
      "source": [
        "You have to download [BI_TSA_HA_1_data.csv](https://github.com/bdemeshev/ts603/blob/master/2021-spring/BI_TSA_HA_1_data.csv), which represents quarterly sales of Walmart from 1984 to 2020. The sourse of the data is [ycharts.com](https://ycharts.com/companies/WMT/revenues). "
      ]
    },
    {
      "cell_type": "code",
      "metadata": {
        "id": "CWTi_RHs5hdg"
      },
      "source": [
        "import pandas as pd\n",
        "import numpy as np\n",
        "from sktime.utils.plotting import plot_series\n",
        "from sktime.forecasting.model_selection import temporal_train_test_split\n",
        "from statsmodels.tsa.exponential_smoothing.ets import ETSModel\n",
        "from sklearn.metrics import  mean_absolute_error, mean_squared_error"
      ],
      "execution_count": null,
      "outputs": []
    },
    {
      "cell_type": "markdown",
      "metadata": {
        "id": "_oBE-Hy75hdh"
      },
      "source": [
        "### 1.1 Read data (1 pt.)\n",
        "[back to contents](#Contents)"
      ]
    },
    {
      "cell_type": "markdown",
      "metadata": {
        "id": "AYa34jW15hdi"
      },
      "source": [
        "Read the downloaded data from your local computer and name it ``` df ```\n",
        "\n",
        "Alternatively, you can skip 1.0 and access data directly putting ```'https://raw.github.com/bdemeshev/ts603/master/2021-spring/BI_TSA_HA_1_data.csv'``` inside ```read_csv```\n",
        "\n",
        "use ``` pd.read_csv('... .csv') ```"
      ]
    },
    {
      "cell_type": "code",
      "metadata": {
        "colab": {
          "base_uri": "https://localhost:8080/",
          "height": 164
        },
        "id": "miEgdwWy5hdi",
        "outputId": "2adc9526-8553-43de-b48e-e04ac764c2a9"
      },
      "source": [
        "df = pd.read_csv('https://raw.github.com/bdemeshev/ts603/master/2021-spring/BI_TSA_HA_1_data.csv')"
      ],
      "execution_count": 1,
      "outputs": [
        {
          "output_type": "error",
          "ename": "NameError",
          "evalue": "ignored",
          "traceback": [
            "\u001b[0;31m---------------------------------------------------------------------------\u001b[0m",
            "\u001b[0;31mNameError\u001b[0m                                 Traceback (most recent call last)",
            "\u001b[0;32m<ipython-input-1-a3b6ff8f9e2e>\u001b[0m in \u001b[0;36m<module>\u001b[0;34m()\u001b[0m\n\u001b[0;32m----> 1\u001b[0;31m \u001b[0mdf\u001b[0m \u001b[0;34m=\u001b[0m \u001b[0mpd\u001b[0m\u001b[0;34m.\u001b[0m\u001b[0mread_csv\u001b[0m\u001b[0;34m(\u001b[0m\u001b[0;34m'https://raw.github.com/bdemeshev/ts603/master/2021-spring/BI_TSA_HA_1_data.csv'\u001b[0m\u001b[0;34m)\u001b[0m\u001b[0;34m\u001b[0m\u001b[0;34m\u001b[0m\u001b[0m\n\u001b[0m",
            "\u001b[0;31mNameError\u001b[0m: name 'pd' is not defined"
          ]
        }
      ]
    },
    {
      "cell_type": "markdown",
      "metadata": {
        "id": "aJdEIcIS5hdi"
      },
      "source": [
        "### 1.2 Check NAs (1 pt.)\n",
        "[back to contents](#Contents)"
      ]
    },
    {
      "cell_type": "markdown",
      "metadata": {
        "id": "Js-GCnpb5hdj"
      },
      "source": [
        "Check whether ``` df ``` contains missing values(NAs):\n",
        "\n",
        "apply ``` isna().value_counts() ``` to ``` df ```"
      ]
    },
    {
      "cell_type": "code",
      "metadata": {
        "id": "u4VkvVA65hdj",
        "outputId": "6a5ffd5f-44e1-4977-a281-c466ea9a301f"
      },
      "source": [
        "print(df.isna().value_counts())"
      ],
      "execution_count": null,
      "outputs": [
        {
          "output_type": "stream",
          "text": [
            "sales  month  day    year \n",
            "False  False  False  False    147\n",
            "dtype: int64\n"
          ],
          "name": "stdout"
        }
      ]
    },
    {
      "cell_type": "markdown",
      "metadata": {
        "id": "Bm_p2wFK5hdl"
      },
      "source": [
        "How many missing values are there in ``` df ```?"
      ]
    },
    {
      "cell_type": "code",
      "metadata": {
        "id": "amIilEWL5hdm",
        "outputId": "456f9492-4777-443c-8d1a-e5936bfb6e6a"
      },
      "source": [
        "#0\n",
        "df.isna().sum().sum()"
      ],
      "execution_count": null,
      "outputs": [
        {
          "output_type": "execute_result",
          "data": {
            "text/plain": [
              "0"
            ]
          },
          "metadata": {
            "tags": []
          },
          "execution_count": 73
        }
      ]
    },
    {
      "cell_type": "markdown",
      "metadata": {
        "id": "6yMaD4z45hdm"
      },
      "source": [
        "### 1.3 Dates transformation (2 pt.)\n",
        "[back to contents](#Contents)"
      ]
    },
    {
      "cell_type": "markdown",
      "metadata": {
        "id": "IfOhSTCE5hdn"
      },
      "source": [
        "How are dates represented in the original dataset? "
      ]
    },
    {
      "cell_type": "code",
      "metadata": {
        "id": "Yxta8t1d5hdn",
        "outputId": "c144a68b-5e55-4dc6-9e3f-70109a2ef5b9"
      },
      "source": [
        "print(df.dtypes)"
      ],
      "execution_count": null,
      "outputs": [
        {
          "output_type": "stream",
          "text": [
            "sales    float64\n",
            "month      int64\n",
            "day        int64\n",
            "year       int64\n",
            "dtype: object\n"
          ],
          "name": "stdout"
        }
      ]
    },
    {
      "cell_type": "markdown",
      "metadata": {
        "id": "BS64Kj8C5hdo"
      },
      "source": [
        "Transform dates to datetime format:\n",
        "\n",
        "``` df['date']=df['...']*10000+df['...']*100+df['...']*1 ```\n",
        "\n",
        "``` df['date']=pd.to_datetime(df['date'], format='%Y%m%d') ```\n",
        "\n",
        "change each ``` df['...'] ``` to one of ``` df['month'] ```, ``` df['year'] ```, ``` df['day'] ```according to ``` format='%Y%m%d'```"
      ]
    },
    {
      "cell_type": "code",
      "metadata": {
        "id": "ChQtl8kr5hdp",
        "outputId": "97d7f75e-a023-4772-979b-01e994b9cbbd"
      },
      "source": [
        "df['date']=df['year']*10000+df['month']*100+df['day']*1\n",
        "df['date']=pd.to_datetime(df['date'], format='%Y%m%d')\n",
        "print(df)"
      ],
      "execution_count": null,
      "outputs": [
        {
          "output_type": "stream",
          "text": [
            "       sales  month  day  year       date\n",
            "0    134.710     10   31  2020 2020-10-31\n",
            "1    137.740      7   31  2020 2020-07-31\n",
            "2    134.620      4   30  2020 2020-04-30\n",
            "3    141.670      1   31  2020 2020-01-31\n",
            "4    127.990     10   31  2019 2019-10-31\n",
            "..       ...    ...  ...   ...        ...\n",
            "142    1.656      4   30  1985 1985-04-30\n",
            "143    2.074      1   31  1985 1985-01-31\n",
            "144    1.584     10   31  1984 1984-10-31\n",
            "145    1.508      7   31  1984 1984-07-31\n",
            "146    1.235      4   30  1984 1984-04-30\n",
            "\n",
            "[147 rows x 5 columns]\n"
          ],
          "name": "stdout"
        }
      ]
    },
    {
      "cell_type": "markdown",
      "metadata": {
        "id": "wiqw_ByV5hdq"
      },
      "source": [
        "Change index to dates:\n",
        "\n",
        "``` df.index=.... ```"
      ]
    },
    {
      "cell_type": "code",
      "metadata": {
        "id": "GTXhUoq65hdr"
      },
      "source": [
        "df.index=df['date']"
      ],
      "execution_count": null,
      "outputs": []
    },
    {
      "cell_type": "markdown",
      "metadata": {
        "id": "zYbIp4dR5hdt"
      },
      "source": [
        "What is the size of the dataset?\n",
        "\n",
        "use ```.shape```"
      ]
    },
    {
      "cell_type": "code",
      "metadata": {
        "id": "omiqtb_75hdu",
        "outputId": "d1e931fb-6d42-468e-98b6-d104426daf4f"
      },
      "source": [
        "print(df.shape)"
      ],
      "execution_count": null,
      "outputs": [
        {
          "output_type": "stream",
          "text": [
            "(147, 5)\n"
          ],
          "name": "stdout"
        }
      ]
    },
    {
      "cell_type": "markdown",
      "metadata": {
        "id": "9HsXW4hL5hdw"
      },
      "source": [
        "Drop columns ['day', 'year','month','date']:\n",
        "\n",
        "```df=df.drop(..., axis=1)```"
      ]
    },
    {
      "cell_type": "code",
      "metadata": {
        "id": "xztq4GHF5hdx"
      },
      "source": [
        "df = df.drop(['day', 'year', 'month', 'date'], axis=1)"
      ],
      "execution_count": null,
      "outputs": []
    },
    {
      "cell_type": "markdown",
      "metadata": {
        "id": "fuJ_T7Lt5hdx"
      },
      "source": [
        "What is the size of the dataset now?"
      ]
    },
    {
      "cell_type": "code",
      "metadata": {
        "id": "tM8AOkG35hdy",
        "outputId": "cc1ab737-3e68-4a54-e50e-56cbe3e63541"
      },
      "source": [
        "print(df.shape)"
      ],
      "execution_count": null,
      "outputs": [
        {
          "output_type": "stream",
          "text": [
            "(147, 1)\n"
          ],
          "name": "stdout"
        }
      ]
    },
    {
      "cell_type": "markdown",
      "metadata": {
        "id": "wCZYlNtA5hdy"
      },
      "source": [
        "### 1.4 Plot data (0.75 pt.)\n",
        "[back to contents](#Contents)"
      ]
    },
    {
      "cell_type": "markdown",
      "metadata": {
        "id": "l2yyiXW15hdy"
      },
      "source": [
        "transform data frame column to series:\n",
        "\n",
        "```y=df['date']```"
      ]
    },
    {
      "cell_type": "code",
      "metadata": {
        "id": "ie5Cm17t5hdz",
        "outputId": "30cf8a6d-3fc8-4339-db65-d8bd76ea66c1"
      },
      "source": [
        "y=df['sales']\n",
        "print(df)"
      ],
      "execution_count": null,
      "outputs": [
        {
          "output_type": "stream",
          "text": [
            "              sales\n",
            "date               \n",
            "2020-10-31  134.710\n",
            "2020-07-31  137.740\n",
            "2020-04-30  134.620\n",
            "2020-01-31  141.670\n",
            "2019-10-31  127.990\n",
            "...             ...\n",
            "1985-04-30    1.656\n",
            "1985-01-31    2.074\n",
            "1984-10-31    1.584\n",
            "1984-07-31    1.508\n",
            "1984-04-30    1.235\n",
            "\n",
            "[147 rows x 1 columns]\n"
          ],
          "name": "stdout"
        }
      ]
    },
    {
      "cell_type": "markdown",
      "metadata": {
        "id": "VwgQ-O7V5hdz"
      },
      "source": [
        "```plot_series``` gets a series as an argument, whose dates sorted in ascending order.\n",
        "Transform your time series by changing descending order to ascending order:\n",
        "\n",
        "apply ```np.flip``` to ```y``` and name the result ```y```"
      ]
    },
    {
      "cell_type": "code",
      "metadata": {
        "id": "Ga899YIO5hdz",
        "outputId": "ee70240c-4ae7-43ac-e997-3582c7ee65b9"
      },
      "source": [
        "y = np.flip(y)\n",
        "print(y)"
      ],
      "execution_count": null,
      "outputs": [
        {
          "output_type": "stream",
          "text": [
            "date\n",
            "1984-04-30      1.235\n",
            "1984-07-31      1.508\n",
            "1984-10-31      1.584\n",
            "1985-01-31      2.074\n",
            "1985-04-30      1.656\n",
            "               ...   \n",
            "2019-10-31    127.990\n",
            "2020-01-31    141.670\n",
            "2020-04-30    134.620\n",
            "2020-07-31    137.740\n",
            "2020-10-31    134.710\n",
            "Name: sales, Length: 147, dtype: float64\n"
          ],
          "name": "stdout"
        }
      ]
    },
    {
      "cell_type": "markdown",
      "metadata": {
        "id": "YosgAunL5hd1"
      },
      "source": [
        "Plot the series using ```plot_series()```"
      ]
    },
    {
      "cell_type": "code",
      "metadata": {
        "id": "83axJMS65hd1",
        "outputId": "e3da5d84-ef04-4999-ddc0-ab78f436ac31"
      },
      "source": [
        "plot_series(y)"
      ],
      "execution_count": null,
      "outputs": [
        {
          "output_type": "execute_result",
          "data": {
            "text/plain": [
              "(<Figure size 1152x288 with 1 Axes>, <AxesSubplot:ylabel='sales'>)"
            ]
          },
          "metadata": {
            "tags": []
          },
          "execution_count": 82
        },
        {
          "output_type": "display_data",
          "data": {
            "image/png": "[encoded data removed]",
            "text/plain": [
              "<Figure size 1152x288 with 1 Axes>"
            ]
          },
          "metadata": {
            "tags": [],
            "needs_background": "light"
          }
        }
      ]
    },
    {
      "cell_type": "markdown",
      "metadata": {
        "id": "1crYQkW15hd2"
      },
      "source": [
        "### 1.5 Split data (0.75 pt.)\n",
        "[back to contents](#Contents)"
      ]
    },
    {
      "cell_type": "markdown",
      "metadata": {
        "id": "CkEagE2d5hd2"
      },
      "source": [
        "Split the data into train and test samples:\n",
        "\n",
        "``` temporal_train_test_split(...) ```\n",
        "\n",
        "choose ``` test_size=0.2 ```"
      ]
    },
    {
      "cell_type": "code",
      "metadata": {
        "id": "8pyJ2rMG5hd3"
      },
      "source": [
        "y_train, y_test = temporal_train_test_split(y, test_size=0.2)"
      ],
      "execution_count": null,
      "outputs": []
    },
    {
      "cell_type": "markdown",
      "metadata": {
        "id": "rOBhEnX25hd3"
      },
      "source": [
        "plot train and test samples using ``` plot_series ```"
      ]
    },
    {
      "cell_type": "code",
      "metadata": {
        "id": "guwuYx8h5hd3",
        "outputId": "39c49e53-d5bc-48c1-ca3e-4ab8ed222c10"
      },
      "source": [
        "plot_series(y_train, y_test)"
      ],
      "execution_count": null,
      "outputs": [
        {
          "output_type": "execute_result",
          "data": {
            "text/plain": [
              "(<Figure size 1152x288 with 1 Axes>, <AxesSubplot:ylabel='sales'>)"
            ]
          },
          "metadata": {
            "tags": []
          },
          "execution_count": 84
        },
        {
          "output_type": "display_data",
          "data": {
            "image/png": "[encoded data removed]",
            "text/plain": [
              "<Figure size 1152x288 with 1 Axes>"
            ]
          },
          "metadata": {
            "tags": [],
            "needs_background": "light"
          }
        }
      ]
    },
    {
      "cell_type": "markdown",
      "metadata": {
        "id": "Rz84k4zA5hd4"
      },
      "source": [
        "## 2. ETS (7 pt.)"
      ]
    },
    {
      "cell_type": "markdown",
      "metadata": {
        "id": "D9oP147h5hd5"
      },
      "source": [
        "### 2.1 Estimate ETS (MAA) and (AAM) (1 pt.)\n",
        "[back to contents](#Contents)"
      ]
    },
    {
      "cell_type": "markdown",
      "metadata": {
        "id": "GG5_2X_S5hd5"
      },
      "source": [
        "Start with ETS (MAA). Estimate the model and name it ```model_MAA```:\n",
        "\n",
        "```ETSModel(..., error='...', trend='...', seasonal='...', seasonal_periods=...)```\n",
        "\n",
        "```fit_MAA=model_MAA.fit()```\n"
      ]
    },
    {
      "cell_type": "code",
      "metadata": {
        "id": "ulSsOSsx5hd5",
        "outputId": "7374b5a2-6158-45b5-ca89-7b914859214a"
      },
      "source": [
        "model_MAA = ETSModel(y_train, error='mul', trend='add', seasonal='add', seasonal_periods=4) #4 quarters\n",
        "fit_MAA=model_MAA.fit()"
      ],
      "execution_count": null,
      "outputs": [
        {
          "output_type": "stream",
          "text": [
            "C:\\ProgramData\\Anaconda3\\lib\\site-packages\\statsmodels\\tsa\\base\\tsa_model.py:524: ValueWarning: No frequency information was provided, so inferred frequency Q-OCT will be used.\n",
            "  warnings.warn('No frequency information was'\n"
          ],
          "name": "stderr"
        }
      ]
    },
    {
      "cell_type": "markdown",
      "metadata": {
        "id": "-IeN07Ri5hd5"
      },
      "source": [
        "Estimate ETS (AAM) with the same characteristics:\n",
        "    \n",
        "```ETSModel(..., error='...', trend='...', seasonal='...', seasonal_periods=...)```\n",
        "\n",
        "```fit_AAM=model_AAM.fit()```\n"
      ]
    },
    {
      "cell_type": "code",
      "metadata": {
        "id": "opPIjCXx5hd6",
        "outputId": "5ba07314-4c65-4d7c-f596-cc6257dcf271"
      },
      "source": [
        "model_AAM = ETSModel(y_train, error='add', trend='add', seasonal='mul', seasonal_periods=4)\n",
        "fit_AAM=model_AAM.fit()"
      ],
      "execution_count": null,
      "outputs": [
        {
          "output_type": "stream",
          "text": [
            "C:\\ProgramData\\Anaconda3\\lib\\site-packages\\statsmodels\\tsa\\base\\tsa_model.py:524: ValueWarning: No frequency information was provided, so inferred frequency Q-OCT will be used.\n",
            "  warnings.warn('No frequency information was'\n"
          ],
          "name": "stderr"
        }
      ]
    },
    {
      "cell_type": "markdown",
      "metadata": {
        "id": "G-Z178045hd8"
      },
      "source": [
        "### 2.2 Point forecasts (1 pt.)\n",
        "[back to contents](#Contents)"
      ]
    },
    {
      "cell_type": "markdown",
      "metadata": {
        "id": "RoTTpnKb5hd8"
      },
      "source": [
        "Obtain point forecasts for ETS(MAA) with forecasting horizon=30 quarters:\n",
        "\n",
        "```fit_MAA.forecast(steps=...)```"
      ]
    },
    {
      "cell_type": "code",
      "metadata": {
        "id": "lOStn0en5hd9"
      },
      "source": [
        "fit_MAA_forecast = fit_MAA.forecast(steps=30)"
      ],
      "execution_count": null,
      "outputs": []
    },
    {
      "cell_type": "markdown",
      "metadata": {
        "id": "PdKO5pS-5hd9"
      },
      "source": [
        "Obtain point forecasts for ETS(AAM) with forecasting horizon=30 quarters:\n",
        "\n",
        "```fit_AAM.forecast(steps=...)```"
      ]
    },
    {
      "cell_type": "code",
      "metadata": {
        "id": "N_XcWxuI5hd9"
      },
      "source": [
        "fit_AAM_forecast = fit_AAM.forecast(steps=30)"
      ],
      "execution_count": null,
      "outputs": []
    },
    {
      "cell_type": "markdown",
      "metadata": {
        "id": "S2pTKvYb5hd-"
      },
      "source": [
        "Plot both forecasts (AAM) and (MAA), test and train data\n",
        "\n",
        "```plot_series()```"
      ]
    },
    {
      "cell_type": "code",
      "metadata": {
        "id": "sSpL389q5hd-",
        "outputId": "936d1d8c-1fe7-4377-b3b6-34950a8ba770"
      },
      "source": [
        "plot_series(y_train, y_test, fit_MAA_forecast, fit_AAM_forecast, labels=['y_train','y_test','fit_MAA_forecast','fit_AAM_forecast'])"
      ],
      "execution_count": null,
      "outputs": [
        {
          "output_type": "execute_result",
          "data": {
            "text/plain": [
              "(<Figure size 1152x288 with 1 Axes>, <AxesSubplot:ylabel='sales'>)"
            ]
          },
          "metadata": {
            "tags": []
          },
          "execution_count": 127
        },
        {
          "output_type": "display_data",
          "data": {
            "image/png": "[encoded data removed]",
            "text/plain": [
              "<Figure size 1152x288 with 1 Axes>"
            ]
          },
          "metadata": {
            "tags": [],
            "needs_background": "light"
          }
        }
      ]
    },
    {
      "cell_type": "markdown",
      "metadata": {
        "id": "enrfIIJw5hd_"
      },
      "source": [
        "### 2.3 Interval forecasts ETS(MAA) (1 pt.)\n",
        "[back to contents](#Contents)"
      ]
    },
    {
      "cell_type": "markdown",
      "metadata": {
        "id": "DH8LkpAO5hd_"
      },
      "source": [
        "Get 95% confidence intervals:\n",
        "\n",
        "```pred_MAA=fit_MAA.get_prediction(start='2013-07-31', end='2020-10-31') ```\n",
        "\n",
        "``` pred_MAA=pred_MAA.summary_frame(alpha=0.05) ```\n",
        "\n",
        "Expract upper and lower bounds from ```pred_MAA``` and name them ```upper_int``` and ```lower_int```\n"
      ]
    },
    {
      "cell_type": "code",
      "metadata": {
        "id": "m1mWy-uD5heA"
      },
      "source": [
        "pred_MAA=fit_MAA.get_prediction(start='2013-07-31', end='2020-10-31')\n",
        "pred_MAA=pred_MAA.summary_frame(alpha=0.05)\n",
        "upper_int = pred_MAA.pi_upper\n",
        "lower_int = pred_MAA.pi_lower"
      ],
      "execution_count": null,
      "outputs": []
    },
    {
      "cell_type": "markdown",
      "metadata": {
        "id": "ytketEso5heA"
      },
      "source": [
        "Plot interval predictions:\n",
        "\n",
        "```plot_series()```"
      ]
    },
    {
      "cell_type": "code",
      "metadata": {
        "scrolled": true,
        "id": "_ygJusO65heD",
        "outputId": "d2052681-d678-42c6-c567-7cbfeb84bbaa"
      },
      "source": [
        "plot_series(y_test, upper_int, lower_int, labels = ['y_test', 'lower_int','upper_int'])"
      ],
      "execution_count": null,
      "outputs": [
        {
          "output_type": "execute_result",
          "data": {
            "text/plain": [
              "(<Figure size 1152x288 with 1 Axes>, <AxesSubplot:ylabel='sales'>)"
            ]
          },
          "metadata": {
            "tags": []
          },
          "execution_count": 140
        },
        {
          "output_type": "display_data",
          "data": {
            "image/png": "[encoded data removed]",
            "text/plain": [
              "<Figure size 1152x288 with 1 Axes>"
            ]
          },
          "metadata": {
            "tags": [],
            "needs_background": "light"
          }
        }
      ]
    },
    {
      "cell_type": "markdown",
      "metadata": {
        "id": "UgZes3LW5heD"
      },
      "source": [
        "### 2.4 Interval forecasts ETS(AAM) (1 pt.)\n",
        "[back to contents](#Contents)"
      ]
    },
    {
      "cell_type": "markdown",
      "metadata": {
        "id": "9PMR2CWO5heE"
      },
      "source": [
        "Get 95% confidence intervals:\n",
        "\n",
        "``` pred_AAM=fit_AAM.get_prediction(start='2013-07-31', end='2020-10-31') ```\n",
        "\n",
        "``` pred_AAM=pred_AAM.summary_frame(alpha=0.05) ```\n",
        "\n",
        "Expract upper and lower bounds from ```pred_MAA``` and name them ```upper_int``` and ```lower_int```"
      ]
    },
    {
      "cell_type": "code",
      "metadata": {
        "id": "qxYBgnMH5heE"
      },
      "source": [
        "pred_AAM = fit_AAM.get_prediction(start='2013-07-31', end='2020-10-31')\n",
        "pred_AAM = pred_AAM.summary_frame(alpha=0.05)\n",
        "upper_int = pred_AAM.pi_upper\n",
        "lower_int = pred_AAM.pi_lower"
      ],
      "execution_count": null,
      "outputs": []
    },
    {
      "cell_type": "markdown",
      "metadata": {
        "id": "-zIwLXMN5heE"
      },
      "source": [
        "Plot interval predictions:\n",
        "\n",
        "```plot_series()```"
      ]
    },
    {
      "cell_type": "code",
      "metadata": {
        "scrolled": true,
        "id": "rm3ZKKI85heE",
        "outputId": "2f5d9efd-ab0a-45ec-bb54-837e64c2e54a"
      },
      "source": [
        "plot_series(y_test, upper_int, lower_int, labels=['y_test', 'lower_int','upper_int'])"
      ],
      "execution_count": null,
      "outputs": [
        {
          "output_type": "execute_result",
          "data": {
            "text/plain": [
              "(<Figure size 1152x288 with 1 Axes>, <AxesSubplot:ylabel='sales'>)"
            ]
          },
          "metadata": {
            "tags": []
          },
          "execution_count": 142
        },
        {
          "output_type": "display_data",
          "data": {
            "image/png": "[encoded data removed]",
            "text/plain": [
              "<Figure size 1152x288 with 1 Axes>"
            ]
          },
          "metadata": {
            "tags": [],
            "needs_background": "light"
          }
        }
      ]
    },
    {
      "cell_type": "markdown",
      "metadata": {
        "id": "vj-Tf3CF5heF"
      },
      "source": [
        "### 2.5 Forecast quality metrics (2 pt.)\n",
        "[back to contents](#Contents)"
      ]
    },
    {
      "cell_type": "markdown",
      "metadata": {
        "id": "BmBEuNXj5heF"
      },
      "source": [
        "Calculate the following metrics for both ETS(MAA) and ETS(AAM) predictions:"
      ]
    },
    {
      "cell_type": "markdown",
      "metadata": {
        "id": "fIU9cvMk5heG"
      },
      "source": [
        "$MAE = \\frac{\\sum\\limits_{i=1}^n |y_i-\\hat{y}_i|}{n}$\n",
        "\n",
        "```python\n",
        "sklearn.metrics.mean_absolute_error\n",
        "```"
      ]
    },
    {
      "cell_type": "code",
      "metadata": {
        "id": "YYQn_1-X5heH",
        "outputId": "aee77df6-e86e-41f1-aaf3-4891968d90d6"
      },
      "source": [
        "mean_absolute_error(y_test, fit_MAA.forecast(steps=30))"
      ],
      "execution_count": null,
      "outputs": [
        {
          "output_type": "execute_result",
          "data": {
            "text/plain": [
              "6.394545669537119"
            ]
          },
          "metadata": {
            "tags": []
          },
          "execution_count": 146
        }
      ]
    },
    {
      "cell_type": "code",
      "metadata": {
        "id": "9OLTpG3c5heI",
        "outputId": "eabcb801-174d-4cd0-9c90-6a8d95ae0563"
      },
      "source": [
        "mean_absolute_error(y_test, fit_AAM.forecast(steps=30))"
      ],
      "execution_count": null,
      "outputs": [
        {
          "output_type": "execute_result",
          "data": {
            "text/plain": [
              "12.70917456183635"
            ]
          },
          "metadata": {
            "tags": []
          },
          "execution_count": 144
        }
      ]
    },
    {
      "cell_type": "markdown",
      "metadata": {
        "id": "hXKv8zGN5heJ"
      },
      "source": [
        "$MSE = \\frac{\\sum\\limits_{i=1}^n (y_i-\\hat{y}_i)^2}{n}$\n",
        "\n",
        "```python\n",
        "sklearn.metrics.mean_squared_error\n",
        "```"
      ]
    },
    {
      "cell_type": "code",
      "metadata": {
        "id": "KkUDxP9G5heJ",
        "outputId": "a52e21bc-67ed-42aa-8aad-e1ab43840792"
      },
      "source": [
        "mean_squared_error(y_test, fit_MAA.forecast(steps=30))"
      ],
      "execution_count": null,
      "outputs": [
        {
          "output_type": "execute_result",
          "data": {
            "text/plain": [
              "50.571457544758125"
            ]
          },
          "metadata": {
            "tags": []
          },
          "execution_count": 147
        }
      ]
    },
    {
      "cell_type": "code",
      "metadata": {
        "id": "ZpG_rDIH5heK",
        "outputId": "4ecfca13-8b93-4327-f844-9226a0f314dd"
      },
      "source": [
        "mean_squared_error(y_test, fit_AAM.forecast(steps=30))"
      ],
      "execution_count": null,
      "outputs": [
        {
          "output_type": "execute_result",
          "data": {
            "text/plain": [
              "195.97076930361985"
            ]
          },
          "metadata": {
            "tags": []
          },
          "execution_count": 149
        }
      ]
    },
    {
      "cell_type": "markdown",
      "metadata": {
        "id": "FGyzDDGk5heK"
      },
      "source": [
        "$MAPE = \\frac{100}{n}\\frac{\\sum\\limits_{i=1}^n |y_i-\\hat{y}_i|}{y_i}$ \n",
        "\n",
        "```python\n",
        "def mean_absolute_percentage_error(y_true, y_pred): \n",
        "    return np.mean(np.abs((y_true - y_pred) / y_true)) * 100\n",
        "```"
      ]
    },
    {
      "cell_type": "markdown",
      "metadata": {
        "id": "3q8FRObm5heK"
      },
      "source": [
        "Create a new function to calculate MAPE"
      ]
    },
    {
      "cell_type": "code",
      "metadata": {
        "id": "JkiP6gSx5heL"
      },
      "source": [
        "def mean_absolute_percentage_error(y_true, y_pred): \n",
        "    return np.mean(np.abs((y_true - y_pred) / y_true)) * 100"
      ],
      "execution_count": null,
      "outputs": []
    },
    {
      "cell_type": "markdown",
      "metadata": {
        "id": "bDvhz2le5heL"
      },
      "source": [
        "Calculate MAPE:"
      ]
    },
    {
      "cell_type": "code",
      "metadata": {
        "id": "2mTBxDGm5heL",
        "outputId": "ca4e0ec9-5680-4c6f-ce3b-02f28a6596e4"
      },
      "source": [
        "mean_absolute_percentage_error(y_test, fit_MAA.forecast(steps=30))"
      ],
      "execution_count": null,
      "outputs": [
        {
          "output_type": "execute_result",
          "data": {
            "text/plain": [
              "5.091700283717997"
            ]
          },
          "metadata": {
            "tags": []
          },
          "execution_count": 151
        }
      ]
    },
    {
      "cell_type": "code",
      "metadata": {
        "id": "LP7Q3ppD5heM",
        "outputId": "33470fee-7174-4611-859d-8ac733056b57"
      },
      "source": [
        "mean_absolute_percentage_error(y_test, fit_AAM.forecast(steps=30))"
      ],
      "execution_count": null,
      "outputs": [
        {
          "output_type": "execute_result",
          "data": {
            "text/plain": [
              "9.993532982480206"
            ]
          },
          "metadata": {
            "tags": []
          },
          "execution_count": 152
        }
      ]
    },
    {
      "cell_type": "markdown",
      "metadata": {
        "id": "80rFi81I5heO"
      },
      "source": [
        "### 2.6 What is the best model according to the metrics above? (1 pt.)"
      ]
    },
    {
      "cell_type": "code",
      "metadata": {
        "id": "_Z___5cz5heO"
      },
      "source": [
        "# MAA model"
      ],
      "execution_count": null,
      "outputs": []
    }
  ]
}